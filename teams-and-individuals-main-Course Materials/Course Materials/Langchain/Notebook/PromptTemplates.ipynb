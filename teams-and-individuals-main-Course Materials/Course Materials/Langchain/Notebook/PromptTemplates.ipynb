{
 "cells": [
  {
   "cell_type": "code",
   "execution_count": 1,
   "id": "19ea6859",
   "metadata": {},
   "outputs": [],
   "source": [
    "import os\n",
    "%load_ext dotenv\n",
    "%dotenv\n",
    "from langchain.llms import OpenAI"
   ]
  },
  {
   "cell_type": "code",
   "execution_count": 2,
   "id": "e4cdaedb",
   "metadata": {},
   "outputs": [
    {
     "name": "stdout",
     "output_type": "stream",
     "text": [
      "\n",
      "\n",
      "The Sun is over 4.5 billion years old.\n"
     ]
    }
   ],
   "source": [
    "llm  = OpenAI()\n",
    "print(llm(\"Tell me a fact about {entity}\"))"
   ]
  },
  {
   "cell_type": "code",
   "execution_count": 4,
   "id": "d2dcf587",
   "metadata": {},
   "outputs": [
    {
     "name": "stdout",
     "output_type": "stream",
     "text": [
      "Tell me a fact about Earth\n"
     ]
    },
    {
     "data": {
      "text/plain": [
       "'\\n\\nEarth is the only planet in our Solar System known to have liquid water on its surface.'"
      ]
     },
     "execution_count": 4,
     "metadata": {},
     "output_type": "execute_result"
    }
   ],
   "source": [
    "from langchain import PromptTemplate\n",
    "\n",
    "\n",
    "one_input_template = PromptTemplate(input_variables= [\"topic\"], template = \"Tell me a fact about {topic}\")\n",
    "prompt = one_input_template.format(topic = \"Earth\")\n",
    "print(prompt)\n",
    "llm(prompt)"
   ]
  },
  {
   "cell_type": "code",
   "execution_count": 6,
   "id": "f167be7f",
   "metadata": {},
   "outputs": [
    {
     "name": "stdout",
     "output_type": "stream",
     "text": [
      "Tell me a fact about Earth which can be share with a 3rd garde student\n"
     ]
    },
    {
     "data": {
      "text/plain": [
       "'\\n\\nEarth is the only planet in our solar system known to have life.'"
      ]
     },
     "execution_count": 6,
     "metadata": {},
     "output_type": "execute_result"
    }
   ],
   "source": [
    "\n",
    "multiple_input_template = PromptTemplate(input_variables= [\"topic\",\"level\"], template = \"Tell me a fact about {topic} which can be share with a {level} student\")\n",
    "prompt = multiple_input_template.format(topic = \"Earth\", level = \"3rd garde\")\n",
    "print(prompt)\n",
    "llm(prompt)"
   ]
  },
  {
   "cell_type": "code",
   "execution_count": null,
   "id": "57ecddf1",
   "metadata": {},
   "outputs": [],
   "source": []
  }
 ],
 "metadata": {
  "kernelspec": {
   "display_name": "Python 3 (ipykernel)",
   "language": "python",
   "name": "python3"
  },
  "language_info": {
   "codemirror_mode": {
    "name": "ipython",
    "version": 3
   },
   "file_extension": ".py",
   "mimetype": "text/x-python",
   "name": "python",
   "nbconvert_exporter": "python",
   "pygments_lexer": "ipython3",
   "version": "3.10.9"
  }
 },
 "nbformat": 4,
 "nbformat_minor": 5
}
