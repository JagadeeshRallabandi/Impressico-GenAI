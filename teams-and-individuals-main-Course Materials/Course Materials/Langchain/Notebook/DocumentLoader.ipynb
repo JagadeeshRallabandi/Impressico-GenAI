{
 "cells": [
  {
   "cell_type": "code",
   "execution_count": 1,
   "id": "f2590769",
   "metadata": {},
   "outputs": [],
   "source": [
    "import os\n",
    "%load_ext dotenv\n",
    "%dotenv"
   ]
  },
  {
   "cell_type": "code",
   "execution_count": 2,
   "id": "626e557a",
   "metadata": {},
   "outputs": [
    {
     "name": "stderr",
     "output_type": "stream",
     "text": [
      "/Users/ashleshasharma/anaconda3/lib/python3.10/site-packages/pinecone/index.py:4: TqdmWarning: IProgress not found. Please update jupyter and ipywidgets. See https://ipywidgets.readthedocs.io/en/stable/user_install.html\n",
      "  from tqdm.autonotebook import tqdm\n"
     ]
    }
   ],
   "source": [
    "from langchain.document_loaders import DirectoryLoader\n",
    "from langchain.embeddings import OpenAIEmbeddings\n",
    "from langchain.text_splitter import RecursiveCharacterTextSplitter\n",
    "from langchain.vectorstores import Pinecone\n",
    "import pinecone\n",
    "import tqdm"
   ]
  },
  {
   "cell_type": "code",
   "execution_count": 3,
   "id": "a4a43619",
   "metadata": {},
   "outputs": [],
   "source": [
    "pinecone.init(\n",
    "api_key= os.environ[\"PINECONE_API_KEY\"],\n",
    "environment= os.environ[\"PINECONE_ENV_REGION\"]\n",
    ")"
   ]
  },
  {
   "cell_type": "code",
   "execution_count": 4,
   "id": "607f9b4c",
   "metadata": {},
   "outputs": [
    {
     "name": "stdout",
     "output_type": "stream",
     "text": [
      "documentation-helper-index\n"
     ]
    }
   ],
   "source": [
    "INDEX_NAME = os.environ[\"INDEX_NAME\"]\n",
    "print(INDEX_NAME)"
   ]
  },
  {
   "cell_type": "code",
   "execution_count": 8,
   "id": "824cfa5a",
   "metadata": {},
   "outputs": [
    {
     "name": "stdout",
     "output_type": "stream",
     "text": [
      "139\n"
     ]
    }
   ],
   "source": [
    "from langchain.document_loaders import TextLoader\n",
    "\n",
    "loader = DirectoryLoader(\"documents\", glob =\"**/*.txt\", loader_cls=TextLoader)\n",
    "\n",
    "raw_document = loader.load()\n",
    "\n",
    "print(len(raw_document))"
   ]
  },
  {
   "cell_type": "code",
   "execution_count": 10,
   "id": "17cd99fd",
   "metadata": {},
   "outputs": [],
   "source": [
    "text_spitter = RecursiveCharacterTextSplitter(chunk_size = 500, chunk_overlap = 10)\n"
   ]
  },
  {
   "cell_type": "code",
   "execution_count": 11,
   "id": "f4c755b1",
   "metadata": {},
   "outputs": [],
   "source": [
    "documents = text_spitter.split_documents(documents= raw_document)"
   ]
  },
  {
   "cell_type": "code",
   "execution_count": 12,
   "id": "698a9a11",
   "metadata": {},
   "outputs": [
    {
     "name": "stdout",
     "output_type": "stream",
     "text": [
      "1255\n"
     ]
    }
   ],
   "source": [
    "print(len(documents))"
   ]
  },
  {
   "cell_type": "code",
   "execution_count": 13,
   "id": "9aaaaa12",
   "metadata": {},
   "outputs": [
    {
     "name": "stdout",
     "output_type": "stream",
     "text": [
      "documents uploaded\n"
     ]
    }
   ],
   "source": [
    "embedding = OpenAIEmbeddings()\n",
    "Pinecone.from_documents(documents, embedding, index_name = INDEX_NAME)\n",
    "print(\"documents uploaded\")"
   ]
  },
  {
   "cell_type": "code",
   "execution_count": null,
   "id": "42946d05",
   "metadata": {},
   "outputs": [],
   "source": []
  }
 ],
 "metadata": {
  "kernelspec": {
   "display_name": "Python 3 (ipykernel)",
   "language": "python",
   "name": "python3"
  },
  "language_info": {
   "codemirror_mode": {
    "name": "ipython",
    "version": 3
   },
   "file_extension": ".py",
   "mimetype": "text/x-python",
   "name": "python",
   "nbconvert_exporter": "python",
   "pygments_lexer": "ipython3",
   "version": "3.10.9"
  }
 },
 "nbformat": 4,
 "nbformat_minor": 5
}
