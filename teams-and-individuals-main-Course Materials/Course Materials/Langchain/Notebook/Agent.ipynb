{
 "cells": [
  {
   "cell_type": "code",
   "execution_count": 1,
   "id": "72af1bc2",
   "metadata": {},
   "outputs": [],
   "source": [
    "import os\n",
    "%load_ext dotenv\n",
    "%dotenv"
   ]
  },
  {
   "cell_type": "code",
   "execution_count": 7,
   "id": "8e2d1e25",
   "metadata": {},
   "outputs": [],
   "source": [
    "from langchain.llms import OpenAI\n",
    "from langchain.agents import load_tools, AgentType, initialize_agent\n",
    "from openai_callback import CustomOpenAICallback"
   ]
  },
  {
   "cell_type": "code",
   "execution_count": 8,
   "id": "caf2b712",
   "metadata": {},
   "outputs": [],
   "source": [
    "llm = OpenAI(temperature=0, callbacks= [CustomOpenAICallback()])"
   ]
  },
  {
   "cell_type": "code",
   "execution_count": 9,
   "id": "8965f8b2",
   "metadata": {},
   "outputs": [],
   "source": [
    "tools = load_tools(['llm-math'], llm = llm)"
   ]
  },
  {
   "cell_type": "code",
   "execution_count": 10,
   "id": "a7b327a5",
   "metadata": {},
   "outputs": [],
   "source": [
    "agent = initialize_agent(tools, llm, agent= AgentType.ZERO_SHOT_REACT_DESCRIPTION, verbose= True)"
   ]
  },
  {
   "cell_type": "code",
   "execution_count": 11,
   "id": "aadeccbb",
   "metadata": {
    "scrolled": true
   },
   "outputs": [
    {
     "name": "stdout",
     "output_type": "stream",
     "text": [
      "\n",
      "\n",
      "\u001b[1m> Entering new AgentExecutor chain...\u001b[0m\n",
      "on_llm_start and following are the prompts:\n",
      "['Answer the following questions as best you can. You have access to the following tools:\\n\\nCalculator: Useful for when you need to answer questions about math.\\n\\nUse the following format:\\n\\nQuestion: the input question you must answer\\nThought: you should always think about what to do\\nAction: the action to take, should be one of [Calculator]\\nAction Input: the input to the action\\nObservation: the result of the action\\n... (this Thought/Action/Action Input/Observation can repeat N times)\\nThought: I now know the final answer\\nFinal Answer: the final answer to the original input question\\n\\nBegin!\\n\\nQuestion: What is 17 raised to power 11\\nThought:']\n",
      "on_llm_end\n",
      "generations=[[Generation(text=' I need to calculate this\\nAction: Calculator\\nAction Input: 17^11', generation_info={'finish_reason': 'stop', 'logprobs': None})]] llm_output={'token_usage': {'total_tokens': 173, 'completion_tokens': 16, 'prompt_tokens': 157}, 'model_name': 'text-davinci-003'} run=None\n",
      "\u001b[32;1m\u001b[1;3m I need to calculate this\n",
      "Action: Calculator\n",
      "Action Input: 17^11\u001b[0mon_llm_start and following are the prompts:\n",
      "['Translate a math problem into a expression that can be executed using Python\\'s numexpr library. Use the output of running this code to answer the question.\\n\\nQuestion: ${Question with math problem.}\\n```text\\n${single line mathematical expression that solves the problem}\\n```\\n...numexpr.evaluate(text)...\\n```output\\n${Output of running the code}\\n```\\nAnswer: ${Answer}\\n\\nBegin.\\n\\nQuestion: What is 37593 * 67?\\n```text\\n37593 * 67\\n```\\n...numexpr.evaluate(\"37593 * 67\")...\\n```output\\n2518731\\n```\\nAnswer: 2518731\\n\\nQuestion: 37593^(1/5)\\n```text\\n37593**(1/5)\\n```\\n...numexpr.evaluate(\"37593**(1/5)\")...\\n```output\\n8.222831614237718\\n```\\nAnswer: 8.222831614237718\\n\\nQuestion: 17^11\\n']\n",
      "on_llm_end\n",
      "generations=[[Generation(text='```text\\n17**11\\n```\\n...numexpr.evaluate(\"17**11\")...\\n', generation_info={'finish_reason': 'stop', 'logprobs': None})]] llm_output={'token_usage': {'total_tokens': 251, 'completion_tokens': 23, 'prompt_tokens': 228}, 'model_name': 'text-davinci-003'} run=None\n",
      "\n",
      "Observation: \u001b[36;1m\u001b[1;3mAnswer: 34271896307633\u001b[0m\n",
      "Thought:on_llm_start and following are the prompts:\n",
      "['Answer the following questions as best you can. You have access to the following tools:\\n\\nCalculator: Useful for when you need to answer questions about math.\\n\\nUse the following format:\\n\\nQuestion: the input question you must answer\\nThought: you should always think about what to do\\nAction: the action to take, should be one of [Calculator]\\nAction Input: the input to the action\\nObservation: the result of the action\\n... (this Thought/Action/Action Input/Observation can repeat N times)\\nThought: I now know the final answer\\nFinal Answer: the final answer to the original input question\\n\\nBegin!\\n\\nQuestion: What is 17 raised to power 11\\nThought: I need to calculate this\\nAction: Calculator\\nAction Input: 17^11\\nObservation: Answer: 34271896307633\\nThought:']\n",
      "on_llm_end\n",
      "generations=[[Generation(text=' I now know the final answer\\nFinal Answer: 34271896307633', generation_info={'finish_reason': 'stop', 'logprobs': None})]] llm_output={'token_usage': {'total_tokens': 207, 'completion_tokens': 17, 'prompt_tokens': 190}, 'model_name': 'text-davinci-003'} run=None\n",
      "\u001b[32;1m\u001b[1;3m I now know the final answer\n",
      "Final Answer: 34271896307633\u001b[0m\n",
      "\n",
      "\u001b[1m> Finished chain.\u001b[0m\n"
     ]
    },
    {
     "data": {
      "text/plain": [
       "'34271896307633'"
      ]
     },
     "execution_count": 11,
     "metadata": {},
     "output_type": "execute_result"
    }
   ],
   "source": [
    "agent.run(\"What is 17 raised to power 11\")"
   ]
  },
  {
   "cell_type": "code",
   "execution_count": 13,
   "id": "9ab753e4",
   "metadata": {},
   "outputs": [],
   "source": [
    "os.environ['SERPAPI_API_KEY'] = 'd3352ca92ddd5e55020daf0ec21fbdacee35906fbe87ecc064ac260cf1064dbb'"
   ]
  },
  {
   "cell_type": "code",
   "execution_count": 14,
   "id": "534ae76b",
   "metadata": {},
   "outputs": [],
   "source": [
    "tools = load_tools(['llm-math','serpapi'], llm = llm)"
   ]
  },
  {
   "cell_type": "code",
   "execution_count": 15,
   "id": "ada115dd",
   "metadata": {},
   "outputs": [],
   "source": [
    "agent = initialize_agent(tools, llm, agent= AgentType.ZERO_SHOT_REACT_DESCRIPTION, verbose= True)"
   ]
  },
  {
   "cell_type": "code",
   "execution_count": 17,
   "id": "237def6f",
   "metadata": {},
   "outputs": [
    {
     "name": "stdout",
     "output_type": "stream",
     "text": [
      "\n",
      "\n",
      "\u001b[1m> Entering new AgentExecutor chain...\u001b[0m\n",
      "on_llm_start and following are the prompts:\n",
      "['Answer the following questions as best you can. You have access to the following tools:\\n\\nCalculator: Useful for when you need to answer questions about math.\\nSearch: A search engine. Useful for when you need to answer questions about current events. Input should be a search query.\\n\\nUse the following format:\\n\\nQuestion: the input question you must answer\\nThought: you should always think about what to do\\nAction: the action to take, should be one of [Calculator, Search]\\nAction Input: the input to the action\\nObservation: the result of the action\\n... (this Thought/Action/Action Input/Observation can repeat N times)\\nThought: I now know the final answer\\nFinal Answer: the final answer to the original input question\\n\\nBegin!\\n\\nQuestion: When is India independence day? what is that year number Multiply by 5?\\nThought:']\n",
      "on_llm_end\n",
      "generations=[[Generation(text=\" I need to find out when India's independence day is and then do some math.\\nAction: Search\\nAction Input: India independence day\", generation_info={'finish_reason': 'stop', 'logprobs': None})]] llm_output={'token_usage': {'total_tokens': 223, 'completion_tokens': 28, 'prompt_tokens': 195}, 'model_name': 'text-davinci-003'} run=None\n",
      "\u001b[32;1m\u001b[1;3m I need to find out when India's independence day is and then do some math.\n",
      "Action: Search\n",
      "Action Input: India independence day\u001b[0m\n",
      "Observation: \u001b[33;1m\u001b[1;3mTue, Aug 15, 2023\u001b[0m\n",
      "Thought:on_llm_start and following are the prompts:\n",
      "[\"Answer the following questions as best you can. You have access to the following tools:\\n\\nCalculator: Useful for when you need to answer questions about math.\\nSearch: A search engine. Useful for when you need to answer questions about current events. Input should be a search query.\\n\\nUse the following format:\\n\\nQuestion: the input question you must answer\\nThought: you should always think about what to do\\nAction: the action to take, should be one of [Calculator, Search]\\nAction Input: the input to the action\\nObservation: the result of the action\\n... (this Thought/Action/Action Input/Observation can repeat N times)\\nThought: I now know the final answer\\nFinal Answer: the final answer to the original input question\\n\\nBegin!\\n\\nQuestion: When is India independence day? what is that year number Multiply by 5?\\nThought: I need to find out when India's independence day is and then do some math.\\nAction: Search\\nAction Input: India independence day\\nObservation: Tue, Aug 15, 2023\\nThought:\"]\n",
      "on_llm_end\n",
      "generations=[[Generation(text=' I need to multiply 2023 by 5\\nAction: Calculator\\nAction Input: 2023 * 5', generation_info={'finish_reason': 'stop', 'logprobs': None})]] llm_output={'token_usage': {'total_tokens': 258, 'completion_tokens': 20, 'prompt_tokens': 238}, 'model_name': 'text-davinci-003'} run=None\n",
      "\u001b[32;1m\u001b[1;3m I need to multiply 2023 by 5\n",
      "Action: Calculator\n",
      "Action Input: 2023 * 5\u001b[0mon_llm_start and following are the prompts:\n",
      "['Translate a math problem into a expression that can be executed using Python\\'s numexpr library. Use the output of running this code to answer the question.\\n\\nQuestion: ${Question with math problem.}\\n```text\\n${single line mathematical expression that solves the problem}\\n```\\n...numexpr.evaluate(text)...\\n```output\\n${Output of running the code}\\n```\\nAnswer: ${Answer}\\n\\nBegin.\\n\\nQuestion: What is 37593 * 67?\\n```text\\n37593 * 67\\n```\\n...numexpr.evaluate(\"37593 * 67\")...\\n```output\\n2518731\\n```\\nAnswer: 2518731\\n\\nQuestion: 37593^(1/5)\\n```text\\n37593**(1/5)\\n```\\n...numexpr.evaluate(\"37593**(1/5)\")...\\n```output\\n8.222831614237718\\n```\\nAnswer: 8.222831614237718\\n\\nQuestion: 2023 * 5\\n']\n",
      "on_llm_end\n",
      "generations=[[Generation(text='```text\\n2023 * 5\\n```\\n...numexpr.evaluate(\"2023 * 5\")...\\n', generation_info={'finish_reason': 'stop', 'logprobs': None})]] llm_output={'token_usage': {'total_tokens': 254, 'completion_tokens': 25, 'prompt_tokens': 229}, 'model_name': 'text-davinci-003'} run=None\n",
      "\n",
      "Observation: \u001b[36;1m\u001b[1;3mAnswer: 10115\u001b[0m\n",
      "Thought:on_llm_start and following are the prompts:\n",
      "[\"Answer the following questions as best you can. You have access to the following tools:\\n\\nCalculator: Useful for when you need to answer questions about math.\\nSearch: A search engine. Useful for when you need to answer questions about current events. Input should be a search query.\\n\\nUse the following format:\\n\\nQuestion: the input question you must answer\\nThought: you should always think about what to do\\nAction: the action to take, should be one of [Calculator, Search]\\nAction Input: the input to the action\\nObservation: the result of the action\\n... (this Thought/Action/Action Input/Observation can repeat N times)\\nThought: I now know the final answer\\nFinal Answer: the final answer to the original input question\\n\\nBegin!\\n\\nQuestion: When is India independence day? what is that year number Multiply by 5?\\nThought: I need to find out when India's independence day is and then do some math.\\nAction: Search\\nAction Input: India independence day\\nObservation: Tue, Aug 15, 2023\\nThought: I need to multiply 2023 by 5\\nAction: Calculator\\nAction Input: 2023 * 5\\nObservation: Answer: 10115\\nThought:\"]\n",
      "on_llm_end\n",
      "generations=[[Generation(text=' I now know the final answer\\nFinal Answer: India independence day is in 2023 and the year number multiplied by 5 is 10115.', generation_info={'finish_reason': 'stop', 'logprobs': None})]] llm_output={'token_usage': {'total_tokens': 298, 'completion_tokens': 28, 'prompt_tokens': 270}, 'model_name': 'text-davinci-003'} run=None\n",
      "\u001b[32;1m\u001b[1;3m I now know the final answer\n",
      "Final Answer: India independence day is in 2023 and the year number multiplied by 5 is 10115.\u001b[0m\n",
      "\n",
      "\u001b[1m> Finished chain.\u001b[0m\n"
     ]
    },
    {
     "data": {
      "text/plain": [
       "'India independence day is in 2023 and the year number multiplied by 5 is 10115.'"
      ]
     },
     "execution_count": 17,
     "metadata": {},
     "output_type": "execute_result"
    }
   ],
   "source": [
    "agent.run(\"When is India independence day? what is that year number Multiply by 5?\")"
   ]
  },
  {
   "cell_type": "code",
   "execution_count": null,
   "id": "7dd331f3",
   "metadata": {},
   "outputs": [],
   "source": []
  }
 ],
 "metadata": {
  "kernelspec": {
   "display_name": "Python 3 (ipykernel)",
   "language": "python",
   "name": "python3"
  },
  "language_info": {
   "codemirror_mode": {
    "name": "ipython",
    "version": 3
   },
   "file_extension": ".py",
   "mimetype": "text/x-python",
   "name": "python",
   "nbconvert_exporter": "python",
   "pygments_lexer": "ipython3",
   "version": "3.10.9"
  }
 },
 "nbformat": 4,
 "nbformat_minor": 5
}
