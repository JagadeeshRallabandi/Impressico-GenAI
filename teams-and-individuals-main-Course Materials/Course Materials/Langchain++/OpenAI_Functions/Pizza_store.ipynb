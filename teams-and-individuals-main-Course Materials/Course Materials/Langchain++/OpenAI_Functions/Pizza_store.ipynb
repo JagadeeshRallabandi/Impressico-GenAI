{
 "cells": [
  {
   "cell_type": "code",
   "execution_count": 1,
   "id": "f778a3bc",
   "metadata": {},
   "outputs": [
    {
     "data": {
      "text/plain": [
       "True"
      ]
     },
     "execution_count": 1,
     "metadata": {},
     "output_type": "execute_result"
    }
   ],
   "source": [
    "from dotenv import load_dotenv, find_dotenv\n",
    "\n",
    "load_dotenv(find_dotenv())"
   ]
  },
  {
   "cell_type": "code",
   "execution_count": 2,
   "id": "a32713ad",
   "metadata": {},
   "outputs": [],
   "source": [
    "from langchain.chat_models import ChatOpenAI\n",
    "from langchain.prompts import PromptTemplate\n",
    "from langchain.chains.openai_functions import create_openai_fn_chain"
   ]
  },
  {
   "cell_type": "code",
   "execution_count": 3,
   "id": "8b6d7ae1",
   "metadata": {},
   "outputs": [],
   "source": [
    "database = [\n",
    "    {\"name\": \"Salami\", \"price\": 9.99},\n",
    "    {\"name\": \"Margherita\", \"price\": 8.99},\n",
    "    {\"name\": \"Pepperoni\", \"price\": 10.99},\n",
    "    {\"name\": \"Hawaiian\", \"price\": 11.49},\n",
    "    {\"name\": \"Veggie Supreme\", \"price\": 10.49},\n",
    "]"
   ]
  },
  {
   "cell_type": "code",
   "execution_count": 4,
   "id": "96c181fb",
   "metadata": {},
   "outputs": [],
   "source": [
    "def get_pizza_info(pizza_name: str) -> dict:\n",
    "    \"\"\"Retrieve information about a specific pizza from the database.\n",
    "\n",
    "    Args:\n",
    "        pizza_name (str): Name of the pizza.\n",
    "\n",
    "    Returns:\n",
    "        dict: A dictionary containing the pizza's name and price or a message indicating the pizza wasn't found.\n",
    "    \"\"\"\n",
    "    for pizza in database:\n",
    "        if pizza[\"name\"] == pizza_name:\n",
    "            return pizza\n",
    "    return {\"message\": f\"No pizza found with the name {pizza_name}.\"}\n",
    "\n",
    "\n",
    "def add_pizza(pizza_name: str, price: float) -> dict:\n",
    "    \"\"\"Add a new pizza to the database.\n",
    "\n",
    "    Args:\n",
    "        pizza_name (str): Name of the new pizza.\n",
    "        price (float): Price of the new pizza.\n",
    "\n",
    "    Returns:\n",
    "        dict: A message indicating the result of the addition.\n",
    "    \"\"\"\n",
    "    for pizza in database:\n",
    "        if pizza[\"name\"] == pizza_name:\n",
    "            return {\"message\": f\"Pizza {pizza_name} already exists in the database.\"}\n",
    "\n",
    "    database.append({\"name\": pizza_name, \"price\": price})\n",
    "    return {\"message\": f\"Pizza {pizza_name} added successfully!\"}\n"
   ]
  },
  {
   "cell_type": "code",
   "execution_count": 5,
   "id": "8d8d73a8",
   "metadata": {},
   "outputs": [],
   "source": [
    "llm = ChatOpenAI(model=\"gpt-3.5-turbo-0613\", temperature=0)\n",
    "\n",
    "template = \"\"\"You are an AI chatbot having a conversation with a human.\n",
    "\n",
    "Human: {human_input}\n",
    "AI: \"\"\"\n",
    "prompt = PromptTemplate(input_variables=[\"human_input\"], template=template)\n",
    "\n",
    "\n",
    "chain = create_openai_fn_chain([get_pizza_info, add_pizza], llm, prompt, verbose=True)"
   ]
  },
  {
   "cell_type": "code",
   "execution_count": 7,
   "id": "cb7ce0d4",
   "metadata": {},
   "outputs": [
    {
     "name": "stdout",
     "output_type": "stream",
     "text": [
      "\n",
      "\n",
      "\u001b[1m> Entering new LLMChain chain...\u001b[0m\n",
      "Prompt after formatting:\n",
      "\u001b[32;1m\u001b[1;3mYou are an AI chatbot having a conversation with a human.\n",
      "\n",
      "Human: I want to add the pizza 'Jumbo' for 13.99\n",
      "AI: \u001b[0m\n",
      "\n",
      "\u001b[1m> Finished chain.\u001b[0m\n",
      "{'name': 'add_pizza', 'arguments': {'pizza_name': 'Jumbo', 'price': 13.99}}\n"
     ]
    }
   ],
   "source": [
    "result1 = chain.run(\"I want to add the pizza 'Jumbo' for 13.99\")\n",
    "print(result1)\n",
    "\n"
   ]
  },
  {
   "cell_type": "code",
   "execution_count": 8,
   "id": "11670dea",
   "metadata": {},
   "outputs": [
    {
     "name": "stdout",
     "output_type": "stream",
     "text": [
      "\n",
      "\n",
      "\u001b[1m> Entering new LLMChain chain...\u001b[0m\n",
      "Prompt after formatting:\n",
      "\u001b[32;1m\u001b[1;3mYou are an AI chatbot having a conversation with a human.\n",
      "\n",
      "Human: How much does the Jumbo pizza cost?\n",
      "AI: \u001b[0m\n",
      "\n",
      "\u001b[1m> Finished chain.\u001b[0m\n",
      "{'name': 'get_pizza_info', 'arguments': {'pizza_name': 'Jumbo'}}\n"
     ]
    }
   ],
   "source": [
    "result3 = chain.run(\"How much does the Jumbo pizza cost?\")\n",
    "print(result3)"
   ]
  },
  {
   "cell_type": "code",
   "execution_count": null,
   "id": "b5682fa3",
   "metadata": {},
   "outputs": [],
   "source": []
  }
 ],
 "metadata": {
  "kernelspec": {
   "display_name": "Python 3 (ipykernel)",
   "language": "python",
   "name": "python3"
  },
  "language_info": {
   "codemirror_mode": {
    "name": "ipython",
    "version": 3
   },
   "file_extension": ".py",
   "mimetype": "text/x-python",
   "name": "python",
   "nbconvert_exporter": "python",
   "pygments_lexer": "ipython3",
   "version": "3.10.9"
  }
 },
 "nbformat": 4,
 "nbformat_minor": 5
}
