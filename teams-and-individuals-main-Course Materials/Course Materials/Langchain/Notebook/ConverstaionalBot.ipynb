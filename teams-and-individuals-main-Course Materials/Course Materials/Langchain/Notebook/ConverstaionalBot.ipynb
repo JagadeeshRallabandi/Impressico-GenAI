{
 "cells": [
  {
   "cell_type": "code",
   "execution_count": 2,
   "id": "0d7dc545",
   "metadata": {},
   "outputs": [
    {
     "name": "stdout",
     "output_type": "stream",
     "text": [
      "The dotenv extension is already loaded. To reload it, use:\n",
      "  %reload_ext dotenv\n"
     ]
    }
   ],
   "source": [
    "import os\n",
    "%load_ext dotenv\n",
    "%dotenv"
   ]
  },
  {
   "cell_type": "code",
   "execution_count": 3,
   "id": "877521e6",
   "metadata": {},
   "outputs": [
    {
     "name": "stderr",
     "output_type": "stream",
     "text": [
      "/Users/ashleshasharma/anaconda3/lib/python3.10/site-packages/pinecone/index.py:4: TqdmWarning: IProgress not found. Please update jupyter and ipywidgets. See https://ipywidgets.readthedocs.io/en/stable/user_install.html\n",
      "  from tqdm.autonotebook import tqdm\n"
     ]
    }
   ],
   "source": [
    "from langchain.vectorstores import Pinecone\n",
    "import pinecone"
   ]
  },
  {
   "cell_type": "code",
   "execution_count": 4,
   "id": "dc282774",
   "metadata": {},
   "outputs": [],
   "source": [
    "pinecone.init(\n",
    "api_key= os.environ[\"PINECONE_API_KEY\"],\n",
    "environment= os.environ[\"PINECONE_ENV_REGION\"]\n",
    ")"
   ]
  },
  {
   "cell_type": "code",
   "execution_count": 6,
   "id": "b2ca178c",
   "metadata": {},
   "outputs": [],
   "source": [
    "from langchain.chat_models import ChatOpenAI\n",
    "\n",
    "llm= ChatOpenAI(temperature = 1, verbose = True)\n"
   ]
  },
  {
   "cell_type": "code",
   "execution_count": 8,
   "id": "750ce291",
   "metadata": {},
   "outputs": [],
   "source": [
    "from langchain.chains import ConversationalRetrievalChain\n",
    "from langchain.embeddings import OpenAIEmbeddings\n",
    "\n",
    "vector_store = Pinecone.from_existing_index(index_name= os.environ['INDEX_NAME'],embedding= OpenAIEmbeddings())\n",
    "\n",
    "chain = ConversationalRetrievalChain.from_llm(\n",
    "    llm = llm,\n",
    "    chain_type = \"stuff\",\n",
    "    retriever = vector_store.as_retriever(),\n",
    "    return_source_documents = True\n",
    "    \n",
    ")"
   ]
  },
  {
   "cell_type": "code",
   "execution_count": 9,
   "id": "d82cd464",
   "metadata": {},
   "outputs": [
    {
     "data": {
      "text/plain": [
       "['question', 'chat_history']"
      ]
     },
     "execution_count": 9,
     "metadata": {},
     "output_type": "execute_result"
    }
   ],
   "source": [
    "chain.input_keys"
   ]
  },
  {
   "cell_type": "code",
   "execution_count": 12,
   "id": "d16cb64a",
   "metadata": {},
   "outputs": [],
   "source": [
    "result = chain({\"question\": \"What is human evolution?\", \"chat_history\" : []})\n"
   ]
  },
  {
   "cell_type": "code",
   "execution_count": 13,
   "id": "3719eab1",
   "metadata": {},
   "outputs": [
    {
     "name": "stdout",
     "output_type": "stream",
     "text": [
      "{'question': 'What is human evolution?', 'chat_history': [], 'answer': 'Human evolution refers to the process by which modern humans, or Homo sapiens, have developed and changed over time. It is believed that human beings have been in existence for over 2 million years and have evolved over many more millions of years from earlier species. Our ancestors initially lived in trees and primarily consumed fruits and roots. However, as the climate changed and trees thinned out, they had to start walking on the ground to reach the next tree. This led to the development of more efficient walking on hind legs. Over time, our ancestors also started consuming grains growing on wild grasses, which likely played a role in their dietary and physical development. Human evolution is a complex process that involves changes in anatomy, behavior, and genetics.', 'source_documents': [Document(page_content='1.1 HUMAN  EVOLUTION\\n\\nThere are three observations to be made about our human history.', metadata={'source': 'documents/Chapter1.01-HumanEvolution.txt'}), Document(page_content='1.1 HUMAN  EVOLUTION\\n\\nThere are three observations to be made about our human history.', metadata={'source': 'documents/Chapter1.01-HumanEvolution.txt'}), Document(page_content='1. Human beings have been in existence for over 2 million years and have evolved over many more millions of years. Initially, our ancestors lived primarily on trees eating fruits and roots. As the climate changed and trees thinned out, our ancestors couldn’t just jump from tree to tree and had to start walking a few steps to get to the next tree. As the trees moved further apart,  walking had to become more efficient and they started moving on hind legs. The grains growing on wild grasses,', metadata={'source': 'documents/Chapter1.01-HumanEvolution.txt'}), Document(page_content='1. Human beings have been in existence for over 2 million years and have evolved over many more millions of years. Initially, our ancestors lived primarily on trees eating fruits and roots. As the climate changed and trees thinned out, our ancestors couldn’t just jump from tree to tree and had to start walking a few steps to get to the next tree. As the trees moved further apart,  walking had to become more efficient and they started moving on hind legs. The grains growing on wild grasses,', metadata={'source': 'documents/Chapter1.01-HumanEvolution.txt'})]}\n"
     ]
    }
   ],
   "source": [
    "print(result)"
   ]
  },
  {
   "cell_type": "code",
   "execution_count": null,
   "id": "6ed97c48",
   "metadata": {},
   "outputs": [],
   "source": []
  }
 ],
 "metadata": {
  "kernelspec": {
   "display_name": "Python 3 (ipykernel)",
   "language": "python",
   "name": "python3"
  },
  "language_info": {
   "codemirror_mode": {
    "name": "ipython",
    "version": 3
   },
   "file_extension": ".py",
   "mimetype": "text/x-python",
   "name": "python",
   "nbconvert_exporter": "python",
   "pygments_lexer": "ipython3",
   "version": "3.10.9"
  }
 },
 "nbformat": 4,
 "nbformat_minor": 5
}
