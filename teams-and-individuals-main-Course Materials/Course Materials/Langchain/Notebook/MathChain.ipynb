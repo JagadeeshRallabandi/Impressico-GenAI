{
 "cells": [
  {
   "cell_type": "code",
   "execution_count": 1,
   "id": "81226c7e",
   "metadata": {},
   "outputs": [],
   "source": [
    "import os\n",
    "%load_ext dotenv\n",
    "%dotenv"
   ]
  },
  {
   "cell_type": "code",
   "execution_count": 10,
   "id": "6b636588",
   "metadata": {},
   "outputs": [],
   "source": [
    "from langchain import LLMMathChain\n",
    "from langchain.chat_models import ChatOpenAI\n",
    "from openai_callback import CustomOpenAICallback"
   ]
  },
  {
   "cell_type": "code",
   "execution_count": 19,
   "id": "04b70e01",
   "metadata": {},
   "outputs": [],
   "source": [
    "llm_math_chain = LLMMathChain.from_llm(ChatOpenAI(callbacks=[CustomOpenAICallback()]),callbacks=[CustomOpenAICallback()])"
   ]
  },
  {
   "cell_type": "code",
   "execution_count": 20,
   "id": "fe51cc4f",
   "metadata": {},
   "outputs": [
    {
     "data": {
      "text/plain": [
       "'question'"
      ]
     },
     "execution_count": 20,
     "metadata": {},
     "output_type": "execute_result"
    }
   ],
   "source": [
    "llm_math_chain.input_key"
   ]
  },
  {
   "cell_type": "code",
   "execution_count": 21,
   "id": "de0e32ff",
   "metadata": {},
   "outputs": [
    {
     "name": "stdout",
     "output_type": "stream",
     "text": [
      "DEBUGDEMO: on_chain_start and inputs are: {'question': 'What is 17 rasied to power 11'}\n",
      "DEBUGDEMO: on_llm_start and following are the prompts: ['Human: Translate a math problem into a expression that can be executed using Python\\'s numexpr library. Use the output of running this code to answer the question.\\n\\nQuestion: ${Question with math problem.}\\n```text\\n${single line mathematical expression that solves the problem}\\n```\\n...numexpr.evaluate(text)...\\n```output\\n${Output of running the code}\\n```\\nAnswer: ${Answer}\\n\\nBegin.\\n\\nQuestion: What is 37593 * 67?\\n```text\\n37593 * 67\\n```\\n...numexpr.evaluate(\"37593 * 67\")...\\n```output\\n2518731\\n```\\nAnswer: 2518731\\n\\nQuestion: 37593^(1/5)\\n```text\\n37593**(1/5)\\n```\\n...numexpr.evaluate(\"37593**(1/5)\")...\\n```output\\n8.222831614237718\\n```\\nAnswer: 8.222831614237718\\n\\nQuestion: What is 17 rasied to power 11\\n']\n",
      "DEBUGDEMO: on_llm_end generations=[[ChatGeneration(text='```text\\n17**11\\n```\\n...numexpr.evaluate(\"17**11\")...\\n', generation_info={'finish_reason': 'stop'}, message=AIMessage(content='```text\\n17**11\\n```\\n...numexpr.evaluate(\"17**11\")...\\n', additional_kwargs={}, example=False))]] llm_output={'token_usage': <OpenAIObject at 0x124ee3290> JSON: {\n",
      "  \"prompt_tokens\": 209,\n",
      "  \"completion_tokens\": 19,\n",
      "  \"total_tokens\": 228\n",
      "}, 'model_name': 'gpt-3.5-turbo'} run=None\n",
      "DEBUGDEMO: on_chain_end and inputs are: {'answer': 'Answer: 34271896307633'}\n"
     ]
    },
    {
     "data": {
      "text/plain": [
       "{'question': 'What is 17 rasied to power 11',\n",
       " 'answer': 'Answer: 34271896307633'}"
      ]
     },
     "execution_count": 21,
     "metadata": {},
     "output_type": "execute_result"
    }
   ],
   "source": [
    "llm_math_chain(\"What is 17 rasied to power 11\")"
   ]
  },
  {
   "cell_type": "code",
   "execution_count": 8,
   "id": "df7e80a4",
   "metadata": {},
   "outputs": [
    {
     "data": {
      "text/plain": [
       "34271896307633"
      ]
     },
     "execution_count": 8,
     "metadata": {},
     "output_type": "execute_result"
    }
   ],
   "source": [
    "eval('17**11')"
   ]
  },
  {
   "cell_type": "code",
   "execution_count": null,
   "id": "6804e98a",
   "metadata": {},
   "outputs": [],
   "source": []
  }
 ],
 "metadata": {
  "kernelspec": {
   "display_name": "Python 3 (ipykernel)",
   "language": "python",
   "name": "python3"
  },
  "language_info": {
   "codemirror_mode": {
    "name": "ipython",
    "version": 3
   },
   "file_extension": ".py",
   "mimetype": "text/x-python",
   "name": "python",
   "nbconvert_exporter": "python",
   "pygments_lexer": "ipython3",
   "version": "3.10.9"
  }
 },
 "nbformat": 4,
 "nbformat_minor": 5
}
