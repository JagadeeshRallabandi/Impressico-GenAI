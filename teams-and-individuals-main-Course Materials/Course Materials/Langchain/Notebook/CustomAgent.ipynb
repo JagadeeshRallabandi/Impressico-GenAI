{
 "cells": [
  {
   "cell_type": "code",
   "execution_count": 1,
   "id": "dd326504",
   "metadata": {},
   "outputs": [],
   "source": [
    "import os\n",
    "%load_ext dotenv\n",
    "%dotenv"
   ]
  },
  {
   "cell_type": "code",
   "execution_count": 2,
   "id": "2f9bcd51",
   "metadata": {},
   "outputs": [],
   "source": [
    "from langchain.agents import tool"
   ]
  },
  {
   "cell_type": "code",
   "execution_count": 3,
   "id": "64056a8c",
   "metadata": {},
   "outputs": [],
   "source": [
    "@tool\n",
    "def trendsetter(text: str)-> str:\n",
    "    '''Return the name of ultimate trendsetter of 21st century'''\n",
    "    return \"Mr. XYZ\""
   ]
  },
  {
   "cell_type": "code",
   "execution_count": 10,
   "id": "51a9914a",
   "metadata": {},
   "outputs": [],
   "source": [
    "from langchain.agents import load_tools\n",
    "from langchain.llms import OpenAI\n",
    "from openai_callback import CustomOpenAICallback\n",
    "\n",
    "llm = OpenAI(temperature =0, callbacks = [CustomOpenAICallback()] )\n",
    "\n",
    "tool = load_tools(['llm-math'],llm)"
   ]
  },
  {
   "cell_type": "code",
   "execution_count": 11,
   "id": "bae066b5",
   "metadata": {},
   "outputs": [],
   "source": [
    "tool = tool + [trendsetter]"
   ]
  },
  {
   "cell_type": "code",
   "execution_count": 12,
   "id": "c1cbe861",
   "metadata": {},
   "outputs": [],
   "source": [
    "from langchain.agents import initialize_agent\n",
    "from langchain.agents import AgentType\n"
   ]
  },
  {
   "cell_type": "code",
   "execution_count": 13,
   "id": "b94601de",
   "metadata": {},
   "outputs": [],
   "source": [
    "agent = initialize_agent(tool, llm, agent= AgentType.ZERO_SHOT_REACT_DESCRIPTION)"
   ]
  },
  {
   "cell_type": "code",
   "execution_count": 14,
   "id": "14be6eec",
   "metadata": {},
   "outputs": [
    {
     "name": "stdout",
     "output_type": "stream",
     "text": [
      "on_llm_start and following are the prompts:\n",
      "['Answer the following questions as best you can. You have access to the following tools:\\n\\nCalculator: Useful for when you need to answer questions about math.\\ntrendsetter: trendsetter(text: str) -> str - Return the name of ultimate trendsetter of 21st century\\n\\nUse the following format:\\n\\nQuestion: the input question you must answer\\nThought: you should always think about what to do\\nAction: the action to take, should be one of [Calculator, trendsetter]\\nAction Input: the input to the action\\nObservation: the result of the action\\n... (this Thought/Action/Action Input/Observation can repeat N times)\\nThought: I now know the final answer\\nFinal Answer: the final answer to the original input question\\n\\nBegin!\\n\\nQuestion: who is the ultimate trendsetter of 21st century\\nThought:']\n",
      "on_llm_end\n",
      "generations=[[Generation(text=' I need to find out who is the ultimate trendsetter of 21st century\\nAction: trendsetter\\nAction Input: 21st century', generation_info={'finish_reason': 'stop', 'logprobs': None})]] llm_output={'token_usage': {'prompt_tokens': 194, 'completion_tokens': 29, 'total_tokens': 223}, 'model_name': 'text-davinci-003'} run=None\n",
      "on_llm_start and following are the prompts:\n",
      "['Answer the following questions as best you can. You have access to the following tools:\\n\\nCalculator: Useful for when you need to answer questions about math.\\ntrendsetter: trendsetter(text: str) -> str - Return the name of ultimate trendsetter of 21st century\\n\\nUse the following format:\\n\\nQuestion: the input question you must answer\\nThought: you should always think about what to do\\nAction: the action to take, should be one of [Calculator, trendsetter]\\nAction Input: the input to the action\\nObservation: the result of the action\\n... (this Thought/Action/Action Input/Observation can repeat N times)\\nThought: I now know the final answer\\nFinal Answer: the final answer to the original input question\\n\\nBegin!\\n\\nQuestion: who is the ultimate trendsetter of 21st century\\nThought: I need to find out who is the ultimate trendsetter of 21st century\\nAction: trendsetter\\nAction Input: 21st century\\nObservation: Mr. XYZ\\nThought:']\n",
      "on_llm_end\n",
      "generations=[[Generation(text=' I now know the final answer\\nFinal Answer: Mr. XYZ is the ultimate trendsetter of 21st century.', generation_info={'finish_reason': 'stop', 'logprobs': None})]] llm_output={'token_usage': {'prompt_tokens': 235, 'completion_tokens': 25, 'total_tokens': 260}, 'model_name': 'text-davinci-003'} run=None\n"
     ]
    },
    {
     "data": {
      "text/plain": [
       "'Mr. XYZ is the ultimate trendsetter of 21st century.'"
      ]
     },
     "execution_count": 14,
     "metadata": {},
     "output_type": "execute_result"
    }
   ],
   "source": [
    "agent.run(\"who is the ultimate trendsetter of 21st century\")"
   ]
  },
  {
   "cell_type": "code",
   "execution_count": null,
   "id": "f9e2abc9",
   "metadata": {},
   "outputs": [],
   "source": []
  }
 ],
 "metadata": {
  "kernelspec": {
   "display_name": "Python 3 (ipykernel)",
   "language": "python",
   "name": "python3"
  },
  "language_info": {
   "codemirror_mode": {
    "name": "ipython",
    "version": 3
   },
   "file_extension": ".py",
   "mimetype": "text/x-python",
   "name": "python",
   "nbconvert_exporter": "python",
   "pygments_lexer": "ipython3",
   "version": "3.10.9"
  }
 },
 "nbformat": 4,
 "nbformat_minor": 5
}
