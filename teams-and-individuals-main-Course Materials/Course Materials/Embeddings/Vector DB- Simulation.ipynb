{
 "cells": [
  {
   "cell_type": "markdown",
   "id": "127dd32e",
   "metadata": {},
   "source": [
    "# Once an embedding is created it can be stored in a Vector DB."
   ]
  },
  {
   "cell_type": "code",
   "execution_count": 1,
   "id": "5046a463",
   "metadata": {},
   "outputs": [],
   "source": [
    "import os\n",
    "%load_ext dotenv\n",
    "%dotenv"
   ]
  },
  {
   "cell_type": "code",
   "execution_count": 15,
   "id": "1b39b5fa",
   "metadata": {},
   "outputs": [],
   "source": [
    "from openai.embeddings_utils import get_embedding, cosine_similarity\n",
    "\n",
    "# Get embeddings for two pieces of text\n",
    "text1 = \"The decomposition of organic waste in landfills generates methane, a potent greenhouse gas.\"\n",
    "text2 = \"The emission of greenhouse gases like carbon dioxide and methane is a key factor in climate change.\"\n",
    "text3 = \"Changes in climate patterns can be attributed to human activities such as burning fossil fuels and deforestation. \"\n",
    "text4 = \"The recipe for a delicious apple pie.\"\n",
    "text5 = \"How to train a pet dog to do tricks.\"\n",
    "embedding1 = get_embedding(text1)\n",
    "embedding2 = get_embedding(text2)\n",
    "embedding3 = get_embedding(text3)\n",
    "embedding4 = get_embedding(text4)\n",
    "embedding5 = get_embedding(text5)\n"
   ]
  },
  {
   "cell_type": "code",
   "execution_count": 16,
   "id": "f2b8f73c",
   "metadata": {},
   "outputs": [],
   "source": [
    "text_embedding_combinations = [\n",
    "    (text1, embedding1),\n",
    "    (text2, embedding2),\n",
    "    (text3, embedding3),\n",
    "    (text4, embedding4),\n",
    "    (text5, embedding5)\n",
    "]"
   ]
  },
  {
   "cell_type": "code",
   "execution_count": 17,
   "id": "b181aefe",
   "metadata": {},
   "outputs": [],
   "source": [
    "question = \"What are the main causes of climate change?\"\n",
    "question_emb = get_embedding(question)"
   ]
  },
  {
   "cell_type": "code",
   "execution_count": 18,
   "id": "f79a72c7",
   "metadata": {},
   "outputs": [
    {
     "name": "stdout",
     "output_type": "stream",
     "text": [
      "Text: The decomposition of organic waste in landfills generates methane, a potent greenhouse gas.\n",
      "Embedding: 0.7442154382378522\n",
      "\n",
      "Text: The emission of greenhouse gases like carbon dioxide and methane is a key factor in climate change.\n",
      "Embedding: 0.8324177817091876\n",
      "\n",
      "Text: Changes in climate patterns can be attributed to human activities such as burning fossil fuels and deforestation. \n",
      "Embedding: 0.7937144010283228\n",
      "\n",
      "Text: The recipe for a delicious apple pie.\n",
      "Embedding: 0.6500154121020087\n",
      "\n",
      "Text: How to train a pet dog to do tricks.\n",
      "Embedding: 0.6701711867329526\n",
      "\n"
     ]
    }
   ],
   "source": [
    "for text, embedding in text_embedding_combinations:\n",
    "    print(f\"Text: {text}\")\n",
    "    print(f\"Embedding: {cosine_similarity(embedding, question_emb)}\")\n",
    "    print() "
   ]
  },
  {
   "cell_type": "code",
   "execution_count": 20,
   "id": "e37dfd79",
   "metadata": {},
   "outputs": [],
   "source": [
    "ques2 = \"What should we have in breakfast which is good for health?\"\n",
    "question_emb2 = get_embedding(ques2)"
   ]
  },
  {
   "cell_type": "code",
   "execution_count": 21,
   "id": "de42cb78",
   "metadata": {},
   "outputs": [
    {
     "name": "stdout",
     "output_type": "stream",
     "text": [
      "Text: The decomposition of organic waste in landfills generates methane, a potent greenhouse gas.\n",
      "Embedding: 0.6341153480525183\n",
      "\n",
      "Text: The emission of greenhouse gases like carbon dioxide and methane is a key factor in climate change.\n",
      "Embedding: 0.6744331860995394\n",
      "\n",
      "Text: Changes in climate patterns can be attributed to human activities such as burning fossil fuels and deforestation. \n",
      "Embedding: 0.6424570200435321\n",
      "\n",
      "Text: The recipe for a delicious apple pie.\n",
      "Embedding: 0.6723133167081438\n",
      "\n",
      "Text: How to train a pet dog to do tricks.\n",
      "Embedding: 0.6514499923705381\n",
      "\n"
     ]
    }
   ],
   "source": [
    "for text, embedding in text_embedding_combinations:\n",
    "    print(f\"Text: {text}\")\n",
    "    print(f\"Embedding: {cosine_similarity(embedding, question_emb2)}\")\n",
    "    print() "
   ]
  },
  {
   "cell_type": "code",
   "execution_count": null,
   "id": "8111f71f",
   "metadata": {},
   "outputs": [],
   "source": []
  }
 ],
 "metadata": {
  "kernelspec": {
   "display_name": "Python 3 (ipykernel)",
   "language": "python",
   "name": "python3"
  },
  "language_info": {
   "codemirror_mode": {
    "name": "ipython",
    "version": 3
   },
   "file_extension": ".py",
   "mimetype": "text/x-python",
   "name": "python",
   "nbconvert_exporter": "python",
   "pygments_lexer": "ipython3",
   "version": "3.10.9"
  }
 },
 "nbformat": 4,
 "nbformat_minor": 5
}
